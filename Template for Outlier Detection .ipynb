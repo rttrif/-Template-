{
 "cells": [
  {
   "cell_type": "markdown",
   "metadata": {},
   "source": [
    "### Most popular methods for outlier detection\n",
    "\n",
    "- Z-Score or Extreme Value Analysis (parametric)\n",
    "- Probabilistic and Statistical Modeling (parametric)\n",
    "- Linear Regression Models (PCA, LMS)\n",
    "- Proximity Based Models (non-parametric)\n",
    "- Information Theory Models\n",
    "- High Dimensional Outlier Detection Methods (high dimensional sparse data)"
   ]
  },
  {
   "cell_type": "markdown",
   "metadata": {},
   "source": [
    "### Z-Score"
   ]
  },
  {
   "cell_type": "markdown",
   "metadata": {},
   "source": [
    "* Посчитать стандартное отклонение. \n",
    "* Провести стандартизацию (посчитать z-score каждой точки).\n",
    "* Те точки, где z-score больше, чем N (например 3, соответствующее 0.13% данных) стандартных отклонений - выбросы"
   ]
  },
  {
   "cell_type": "markdown",
   "metadata": {},
   "source": [
    "Другой подход к реализации: https://github.com/junmoan/outlier-detection/blob/master/Outlier_Detection_z_score.ipynb"
   ]
  },
  {
   "cell_type": "code",
   "execution_count": 1,
   "metadata": {},
   "outputs": [],
   "source": [
    "def outliers_z_score(data, threshold):\n",
    "    x = data.values\n",
    "    mean_x = np.mean(x)\n",
    "    print('mean:', mean_x)\n",
    "    std_x = np.std(x)\n",
    "    print('std:', std_x)\n",
    "    print(threshold, '* std:', std_x * threshold)\n",
    "    z_scores = [(xi - mean_x) / std_x for xi in x]\n",
    "    \n",
    "    outliers = x[np.where(np.abs(z_scores) > threshold)]\n",
    "    \n",
    "    print('outliers:', outliers)\n",
    "    ax = data.plot.kde()\n",
    "    ax.scatter(x, np.zeros(x.shape[0]))\n",
    "    ax.scatter(outliers, np.zeros(outliers.shape[0]))\n",
    "    \n",
    "    for i in range(5):\n",
    "        left, right = mean_x - i * std_x, mean_x + i * std_x\n",
    "        ax.plot([right, right], [-.01,0.1], color='red', alpha=0.1)\n",
    "        ax.plot([left, left], [-.01,0.1], color='red', alpha=0.1)\n",
    "        \n",
    "    left, right = mean_x - threshold * std_x, mean_x + threshold * std_x\n",
    "    print('left, right thresholds:', left, right)\n",
    "    ax.plot([right, right], [-.01,0.1], color='red', alpha=0.5)\n",
    "    ax.plot([left, left], [-.01,0.1], color='red', alpha=0.5)"
   ]
  },
  {
   "cell_type": "markdown",
   "metadata": {},
   "source": [
    "### IQR method"
   ]
  },
  {
   "cell_type": "markdown",
   "metadata": {},
   "source": [
    "* Рисуем ящик с усами\n",
    "* коробка - 25 и 75 перцентили, то есть 1 и 3 квартили (первая и третья четверть данных)\n",
    "* линия внутри коробки - медиана (середина данных, справа и слева от нее одинаковое количество наблюдений)\n",
    "* считаем ширину коробки - IQR (interquartile range)\n",
    "* умножаем IQR на 1.5\n",
    "* все что на 1.5 * IQR дальше от коробки - выбросы"
   ]
  },
  {
   "cell_type": "markdown",
   "metadata": {},
   "source": [
    "### DBSCAN: Density Based Spatial Clustering of Applications with Noise"
   ]
  },
  {
   "cell_type": "code",
   "execution_count": 2,
   "metadata": {},
   "outputs": [],
   "source": [
    "from sklearn.cluster import DBSCAN\n",
    "\n",
    "\n",
    "def dbscan(data, eps, minPts):\n",
    "    x = data.values\n",
    "    \n",
    "    model = DBSCAN(eps=eps, min_samples=minPts)\n",
    "    model.fit(x)\n",
    "    \n",
    "    labels = model.labels_\n",
    "    print('labels: ', set(model.labels_))\n",
    "    plt.scatter(x[:, 0], x[:, 1], c=labels)\n",
    "    plt.axis('equal')\n",
    "    plt.show()"
   ]
  },
  {
   "cell_type": "markdown",
   "metadata": {},
   "source": [
    "### Isolation Forests"
   ]
  },
  {
   "cell_type": "code",
   "execution_count": 4,
   "metadata": {},
   "outputs": [],
   "source": [
    "from sklearn.ensemble import IsolationForest\n",
    "\n",
    "def iforest(data, trees, samples):\n",
    "    x = data.values\n",
    "    \n",
    "    model = IsolationForest(n_estimators=trees, max_samples=samples)\n",
    "    model.fit(x)\n",
    "    \n",
    "    labels = abs(model.decision_function(x))\n",
    "    plt.scatter(x[:, 0], x[:, 1], c=labels)\n",
    "\n",
    "    \n",
    "    xx, yy = np.meshgrid(np.linspace(x.min(), x.max(), 100), np.linspace(x.min(), x.max(), 100))\n",
    "    Z = abs(model.decision_function(np.c_[xx.ravel(), yy.ravel()]))\n",
    "    Z = Z.reshape(xx.shape)\n",
    "    cont = plt.contourf(xx, yy, Z, cmap=plt.cm.Blues_r, alpha=0.2)\n",
    "    \n",
    "    plt.axis('equal')\n",
    "    plt.show()"
   ]
  },
  {
   "cell_type": "markdown",
   "metadata": {},
   "source": [
    "### One-Class SVMs"
   ]
  },
  {
   "cell_type": "markdown",
   "metadata": {},
   "source": [
    "### LOF: Local Outlier Factor"
   ]
  },
  {
   "cell_type": "code",
   "execution_count": 3,
   "metadata": {},
   "outputs": [],
   "source": [
    "from sklearn.neighbors import LocalOutlierFactor\n",
    "\n",
    "\n",
    "def lof(data, n_neighbors):\n",
    "    x = data.values\n",
    "    \n",
    "    model = LocalOutlierFactor(n_neighbors=n_neighbors)\n",
    "    model.fit(x)\n",
    "    \n",
    "    labels = abs(model._decision_function(x))\n",
    "    plt.scatter(x[:, 0], x[:, 1], c=labels)\n",
    "    \n",
    "    \n",
    "    xx, yy = np.meshgrid(np.linspace(x.min(), x.max(), 100), np.linspace(x.min(), x.max(), 100))\n",
    "    Z = abs(model._decision_function(np.c_[xx.ravel(), yy.ravel()]))\n",
    "    Z = Z.reshape(xx.shape)\n",
    "    cont = plt.contourf(xx, yy, Z, cmap=plt.cm.Blues_r, alpha=0.2)\n",
    "    \n",
    "    plt.axis('equal')\n",
    "    plt.show()\n",
    "    "
   ]
  },
  {
   "cell_type": "code",
   "execution_count": null,
   "metadata": {},
   "outputs": [],
   "source": []
  },
  {
   "cell_type": "markdown",
   "metadata": {},
   "source": [
    "### The ensemble of the above"
   ]
  },
  {
   "cell_type": "markdown",
   "metadata": {},
   "source": [
    "### Density-based algorithm"
   ]
  },
  {
   "cell_type": "markdown",
   "metadata": {},
   "source": [
    "### Mean Absolute Deviation(MADe) Method"
   ]
  },
  {
   "cell_type": "code",
   "execution_count": null,
   "metadata": {},
   "outputs": [],
   "source": []
  }
 ],
 "metadata": {
  "kernelspec": {
   "display_name": "Python 3",
   "language": "python",
   "name": "python3"
  },
  "language_info": {
   "codemirror_mode": {
    "name": "ipython",
    "version": 3
   },
   "file_extension": ".py",
   "mimetype": "text/x-python",
   "name": "python",
   "nbconvert_exporter": "python",
   "pygments_lexer": "ipython3",
   "version": "3.8.3"
  }
 },
 "nbformat": 4,
 "nbformat_minor": 4
}
